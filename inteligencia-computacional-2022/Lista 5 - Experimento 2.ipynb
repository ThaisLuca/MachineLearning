{
 "cells": [
  {
   "cell_type": "markdown",
   "id": "0a38c0f8",
   "metadata": {
    "id": "0a38c0f8"
   },
   "source": [
    "## Setup"
   ]
  },
  {
   "cell_type": "code",
   "execution_count": 1,
   "id": "19566d64",
   "metadata": {
    "id": "19566d64"
   },
   "outputs": [],
   "source": [
    "from sklearn import datasets\n",
    "from sklearn.metrics import classification_report\n",
    "from sklearn.model_selection import train_test_split\n",
    "from matplotlib import pyplot as plt\n",
    "import tensorflow as tf\n",
    "from tensorflow import keras\n",
    "from tensorflow.keras import layers\n",
    "import matplotlib.pyplot as plt\n",
    "import numpy as np\n",
    "from collections import Counter\n",
    "import math\n",
    "import seaborn as sns\n",
    "from sklearn.model_selection import KFold\n",
    "from tqdm import tqdm\n",
    "import copy"
   ]
  },
  {
   "cell_type": "markdown",
   "id": "9e88bc7a",
   "metadata": {
    "id": "9e88bc7a"
   },
   "source": [
    "## Hiperparâmetros"
   ]
  },
  {
   "cell_type": "code",
   "execution_count": 2,
   "id": "affde0ff",
   "metadata": {
    "id": "affde0ff"
   },
   "outputs": [],
   "source": [
    "EPOCHS = 5\n",
    "BATCH_SIZE = 1\n",
    "LEARNING_RATE = 0.01\n",
    "VALIDATION_RATE = 0.2\n",
    "\n",
    "NUM_CLASSES = 10\n",
    "INPUT_SHAPE = (28, 28, 1)\n",
    "\n",
    "# Divisão do KFold\n",
    "K = 2"
   ]
  },
  {
   "cell_type": "markdown",
   "id": "f9ee522f",
   "metadata": {
    "id": "f9ee522f"
   },
   "source": [
    "## MNIST dataset"
   ]
  },
  {
   "cell_type": "code",
   "execution_count": 3,
   "id": "60770722",
   "metadata": {
    "colab": {
     "base_uri": "https://localhost:8080/"
    },
    "id": "60770722",
    "outputId": "2df4dad5-ab8d-442b-e96c-f1c538bdee85"
   },
   "outputs": [
    {
     "name": "stdout",
     "output_type": "stream",
     "text": [
      "x_train shape: (60000, 28, 28, 1)\n",
      "60000 train samples\n",
      "10000 test samples\n"
     ]
    }
   ],
   "source": [
    "# Carregamento dos dados, separando em treinamento e teste de acordo com o Keras\n",
    "(x_train, y_train), (x_test, y_test) = keras.datasets.mnist.load_data()\n",
    "\n",
    "# Escalonamento das imagens para que estejam todas no intervalo [0, 1]\n",
    "x_train = x_train.astype(\"float32\") / 255\n",
    "x_test = x_test.astype(\"float32\") / 255\n",
    "\n",
    "# Imagens deve ter tamanho (28, 28, 1)\n",
    "x_train = np.expand_dims(x_train, -1)\n",
    "x_test = np.expand_dims(x_test, -1)\n",
    "\n",
    "print(\"x_train shape:\", x_train.shape)\n",
    "print(x_train.shape[0], \"train samples\")\n",
    "print(x_test.shape[0], \"test samples\")"
   ]
  },
  {
   "cell_type": "markdown",
   "id": "3add9f15",
   "metadata": {
    "id": "3add9f15"
   },
   "source": [
    "## Distribuição dos Dados"
   ]
  },
  {
   "cell_type": "code",
   "execution_count": 4,
   "id": "d9703264",
   "metadata": {
    "id": "d9703264"
   },
   "outputs": [],
   "source": [
    "# Me certifico de que o conjunto de dados de treinamento está balanceado\n",
    "labels = y_train.tolist() # + y_test.tolist()"
   ]
  },
  {
   "cell_type": "code",
   "execution_count": 5,
   "id": "78b0cb97",
   "metadata": {
    "colab": {
     "base_uri": "https://localhost:8080/"
    },
    "id": "78b0cb97",
    "outputId": "a88a55ea-324d-467b-8e0a-49e4359ce5da"
   },
   "outputs": [
    {
     "data": {
      "text/plain": [
       "(60000,\n",
       " Counter({5: 5421,\n",
       "          0: 5923,\n",
       "          4: 5842,\n",
       "          1: 6742,\n",
       "          9: 5949,\n",
       "          2: 5958,\n",
       "          3: 6131,\n",
       "          6: 5918,\n",
       "          7: 6265,\n",
       "          8: 5851}))"
      ]
     },
     "execution_count": 5,
     "metadata": {},
     "output_type": "execute_result"
    }
   ],
   "source": [
    "len(labels), Counter(labels)"
   ]
  },
  {
   "cell_type": "code",
   "execution_count": 6,
   "id": "D0p8X9X0Wbyj",
   "metadata": {
    "id": "D0p8X9X0Wbyj"
   },
   "outputs": [],
   "source": [
    "# Conversão das classes para vetores binários\n",
    "y_train = keras.utils.to_categorical(y_train, NUM_CLASSES)\n",
    "y_test = keras.utils.to_categorical(y_test, NUM_CLASSES)"
   ]
  },
  {
   "cell_type": "markdown",
   "id": "Xyq2_sNfQVBD",
   "metadata": {
    "id": "Xyq2_sNfQVBD"
   },
   "source": [
    "## Classe Auxiliar"
   ]
  },
  {
   "cell_type": "code",
   "execution_count": 7,
   "id": "vsFAcre3QUq-",
   "metadata": {
    "id": "vsFAcre3QUq-"
   },
   "outputs": [],
   "source": [
    "class LossHistory(keras.callbacks.Callback):\n",
    "    '''Classe para armazenar os valores de erro e acurácia por batch'''\n",
    "    \n",
    "    def __init__(self):\n",
    "        super(keras.callbacks.Callback, self).__init__()\n",
    "        self.losses = []\n",
    "        self.val_losses = []\n",
    "        self.accuracy = []\n",
    "        self.val_accuracy = []\n",
    "        self.accuracy_train = []\n",
    "        self.losses_train = []\n",
    "\n",
    "    def on_train_begin(self, logs={}):\n",
    "        '''\n",
    "          Função de inicialização dos arrays\n",
    "          no início do treinamento de uma época\n",
    "        '''\n",
    "\n",
    "        # Métricas durante o treinamento\n",
    "        self.losses = []\n",
    "        self.accuracy = []\n",
    "\n",
    "        # Métricas de validação\n",
    "        self.val_losses = []\n",
    "        self.val_accuracy = []\n",
    "        self.losses_train = []\n",
    "        self.accuracy_train = []\n",
    "\n",
    "    def on_batch_end(self, batch, logs={}):\n",
    "        '''\n",
    "          Função que armazena os valores\n",
    "          de erro e acurácia em cada batch\n",
    "        '''\n",
    "\n",
    "        self.losses.append(logs.get('loss'))\n",
    "        self.accuracy.append(logs.get('accuracy'))\n",
    "\n",
    "        # score = model.evaluate(self.validation_data[0], self.validation_data[1])\n",
    "        # self.val_losses.append(score[0])\n",
    "        # self.val_accuracy.append(score[1])\n",
    "    \n",
    "    def on_epoch_end(self, epoch, logs={}):\n",
    "      '''\n",
    "          Função que armazena os valores\n",
    "          de erro e acurácia em cada época\n",
    "      '''\n",
    "      self.losses_train.append(logs.get('loss'))\n",
    "      self.accuracy_train.append(logs.get('accuracy'))\n",
    "\n",
    "      self.val_losses.append(logs.get('val_loss'))\n",
    "      self.val_accuracy.append(logs.get('val_accuracy'))"
   ]
  },
  {
   "cell_type": "markdown",
   "id": "158401d0",
   "metadata": {
    "id": "158401d0"
   },
   "source": [
    "## CNN"
   ]
  },
  {
   "cell_type": "code",
   "execution_count": 8,
   "id": "1892cf85",
   "metadata": {
    "colab": {
     "base_uri": "https://localhost:8080/"
    },
    "id": "1892cf85",
    "outputId": "9c82a428-93ed-4f63-f9db-d3706e938045"
   },
   "outputs": [
    {
     "name": "stdout",
     "output_type": "stream",
     "text": [
      "Model: \"sequential\"\n",
      "_________________________________________________________________\n",
      " Layer (type)                Output Shape              Param #   \n",
      "=================================================================\n",
      " conv2d (Conv2D)             (None, 26, 26, 16)        160       \n",
      "                                                                 \n",
      " max_pooling2d (MaxPooling2D  (None, 13, 13, 16)       0         \n",
      " )                                                               \n",
      "                                                                 \n",
      " flatten (Flatten)           (None, 2704)              0         \n",
      "                                                                 \n",
      " dense (Dense)               (None, 100)               270500    \n",
      "                                                                 \n",
      " dense_1 (Dense)             (None, 10)                1010      \n",
      "                                                                 \n",
      "=================================================================\n",
      "Total params: 271,670\n",
      "Trainable params: 271,670\n",
      "Non-trainable params: 0\n",
      "_________________________________________________________________\n"
     ]
    }
   ],
   "source": [
    "# Definição do modelo usado nos experimentos\n",
    "model = keras.Sequential(\n",
    "    [\n",
    "        keras.Input(shape=INPUT_SHAPE),\n",
    "        layers.Conv2D(16, kernel_size=(3, 3), activation=\"relu\"),\n",
    "        layers.MaxPooling2D(pool_size=(2, 2)),\n",
    "        layers.Flatten(),\n",
    "        layers.Dense(100, activation=\"relu\"),\n",
    "        layers.Dense(NUM_CLASSES, activation=\"softmax\"),\n",
    "    ]\n",
    ")\n",
    "\n",
    "model.summary()"
   ]
  },
  {
   "cell_type": "code",
   "execution_count": 9,
   "id": "5fc89c2a",
   "metadata": {
    "colab": {
     "base_uri": "https://localhost:8080/"
    },
    "id": "5fc89c2a",
    "outputId": "579d0212-0728-4851-c313-764f43c3ad1b"
   },
   "outputs": [
    {
     "name": "stdout",
     "output_type": "stream",
     "text": [
      "k = 2\n"
     ]
    },
    {
     "name": "stderr",
     "output_type": "stream",
     "text": [
      "\r",
      "0it [00:00, ?it/s]"
     ]
    },
    {
     "name": "stdout",
     "output_type": "stream",
     "text": [
      "Epoch 1/5\n",
      "60000/60000 [==============================] - 241s 4ms/step - loss: 0.1554 - accuracy: 0.9515 - val_loss: 0.0665 - val_accuracy: 0.9786\n",
      "Epoch 2/5\n",
      "60000/60000 [==============================] - 272s 5ms/step - loss: 0.0564 - accuracy: 0.9829 - val_loss: 0.0404 - val_accuracy: 0.9868\n",
      "Epoch 3/5\n",
      "60000/60000 [==============================] - 235s 4ms/step - loss: 0.0356 - accuracy: 0.9885 - val_loss: 0.0209 - val_accuracy: 0.9942\n",
      "Epoch 4/5\n",
      "60000/60000 [==============================] - 273s 5ms/step - loss: 0.0227 - accuracy: 0.9924 - val_loss: 0.0293 - val_accuracy: 0.9900\n",
      "Epoch 5/5\n",
      "60000/60000 [==============================] - 302s 5ms/step - loss: 0.0151 - accuracy: 0.9953 - val_loss: 0.0069 - val_accuracy: 0.9981\n"
     ]
    },
    {
     "name": "stderr",
     "output_type": "stream",
     "text": [
      "\r",
      "1it [22:02, 1322.74s/it]"
     ]
    },
    {
     "name": "stdout",
     "output_type": "stream",
     "text": [
      "Epoch 1/5\n",
      "60000/60000 [==============================] - 288s 5ms/step - loss: 0.0092 - accuracy: 0.9970 - val_loss: 0.0050 - val_accuracy: 0.9986\n",
      "Epoch 2/5\n",
      "60000/60000 [==============================] - 275s 5ms/step - loss: 0.0062 - accuracy: 0.9981 - val_loss: 0.0113 - val_accuracy: 0.9960\n",
      "Epoch 3/5\n",
      "60000/60000 [==============================] - 233s 4ms/step - loss: 0.0045 - accuracy: 0.9986 - val_loss: 0.0032 - val_accuracy: 0.9990\n",
      "Epoch 4/5\n",
      "60000/60000 [==============================] - 225s 4ms/step - loss: 0.0035 - accuracy: 0.9989 - val_loss: 9.9517e-04 - val_accuracy: 0.9997\n",
      "Epoch 5/5\n",
      "60000/60000 [==============================] - 225s 4ms/step - loss: 8.2943e-04 - accuracy: 0.9998 - val_loss: 0.0012 - val_accuracy: 0.9998\n"
     ]
    },
    {
     "name": "stderr",
     "output_type": "stream",
     "text": [
      "2it [42:49, 1284.52s/it]\n"
     ]
    }
   ],
   "source": [
    "# Compilação do modelo com função de erro e algoritmo de otimização\n",
    "model.compile(loss=\"categorical_crossentropy\", optimizer=\"sgd\", metrics=[\"accuracy\"])\n",
    "\n",
    "all_losses, all_accuracy = [], []\n",
    "all_losses_train, all_accuracy_train = [], []\n",
    "all_val_losses, all_val_accuracy = [], []\n",
    "\n",
    "print(f'k = {K}')\n",
    "\n",
    "kf = KFold(n_splits=K)\n",
    "for train_index, val_index in tqdm(kf.split(x_train,y_train)):\n",
    "  X_train = x_train[train_index]\n",
    "  Y_train = y_train[train_index]\n",
    "\n",
    "  X_val = x_train[val_index]\n",
    "  Y_val = y_train[val_index]\n",
    "\n",
    "  history = LossHistory()\n",
    "  model.fit(x_train, y_train, batch_size=BATCH_SIZE, epochs=EPOCHS, validation_data=(X_val, Y_val), callbacks=[history])\n",
    "\n",
    "  all_losses.append(history.losses)\n",
    "  all_accuracy.append(history.accuracy)\n",
    "\n",
    "  all_losses_train.append(history.losses_train)\n",
    "  all_accuracy_train.append(history.accuracy_train)\n",
    "\n",
    "  all_val_losses.append(history.val_losses)\n",
    "  all_val_accuracy.append(history.val_accuracy)\n",
    "\n",
    "all_losses = np.sum(np.array(all_losses), axis=0)/K\n",
    "all_accuracy = np.sum(np.array(all_accuracy), axis=0)/K\n",
    "\n",
    "all_losses_train = np.sum(np.array(all_losses_train), axis=0)/K\n",
    "all_accuracy_train = np.sum(np.array(all_accuracy_train), axis=0)/K\n",
    "\n",
    "all_val_losses = np.sum(np.array(all_val_losses), axis=0)/K\n",
    "all_val_accuracy = np.sum(np.array(all_val_accuracy), axis=0)/K"
   ]
  },
  {
   "cell_type": "markdown",
   "id": "YNUnSir8buMT",
   "metadata": {
    "id": "YNUnSir8buMT"
   },
   "source": [
    "## Gráficos"
   ]
  },
  {
   "cell_type": "markdown",
   "id": "YztfHYcHRn2n",
   "metadata": {
    "id": "YztfHYcHRn2n"
   },
   "source": [
    "### Plot por Batch"
   ]
  },
  {
   "cell_type": "code",
   "execution_count": 10,
   "id": "t-qpDSYobV9K",
   "metadata": {
    "colab": {
     "base_uri": "https://localhost:8080/",
     "height": 985
    },
    "id": "t-qpDSYobV9K",
    "outputId": "61910488-8801-4783-cd65-75a0d7ee679b"
   },
   "outputs": [
    {
     "data": {
      "image/png": "[encoded data removed]",
      "text/plain": [
       "<Figure size 1080x1080 with 2 Axes>"
      ]
     },
     "metadata": {
      "needs_background": "light"
     },
     "output_type": "display_data"
    }
   ],
   "source": [
    "fig, (ax1,ax2) = plt.subplots(nrows=2, figsize=(15, 15))\n",
    "\n",
    "# O número de iterações durante o treinamento é dado pelo \n",
    "# tamanho do conjunto de treinamento e o tamanho do batch\n",
    "N_INTERACTIONS = math.ceil(len(x_train)/BATCH_SIZE)\n",
    "\n",
    "# Os valores do eixo são o total de iterações com \n",
    "# o número de épocas, já que queremos o eixo x\n",
    "# por batches\n",
    "x = range(0, (N_INTERACTIONS*EPOCHS))\n",
    "\n",
    "# A cada final de época, o sombreado é desfeito\n",
    "color = 'white'\n",
    "for i in range(0, (N_INTERACTIONS*EPOCHS), N_INTERACTIONS):\n",
    "  ax1.axvspan(i, i+N_INTERACTIONS, color=color, alpha=0.5)\n",
    "  ax1.text(i, max(all_losses), f'Epoch {1+(i // N_INTERACTIONS)}', fontsize=16, color='black')\n",
    "  color = 'lightgray' if color == 'white' else 'white'\n",
    "\n",
    "# Plot dos erros coletados usando KFold\n",
    "ax1.plot(x, all_losses)\n",
    "\n",
    "fig.suptitle('Training Progress')\n",
    "ax1.set(xlabel='Iteraction', ylabel='Loss')\n",
    "ax1.legend(['Training'], loc='lower left')\n",
    "ax1.grid()\n",
    "\n",
    "color = 'white'\n",
    "for i in range(0,N_INTERACTIONS*EPOCHS, N_INTERACTIONS):\n",
    "  ax2.axvspan(i, i+N_INTERACTIONS, color=color, alpha=0.5)\n",
    "  ax2.text(i, min(all_accuracy), f'Epoch {1+(i // N_INTERACTIONS)}', fontsize=16, color='black')\n",
    "  color = 'lightgray' if color == 'white' else 'white'\n",
    "\n",
    "# Plot dos valores de acurácia coletados usando KFold\n",
    "ax2.plot(x, all_accuracy)\n",
    "\n",
    "ax2.set(xlabel='Iteraction', ylabel='Accuracy')\n",
    "ax2.legend(['Training'], loc='lower left')\n",
    "ax2.grid()\n",
    "\n",
    "sns.despine()\n",
    "fig.savefig('cnn.pdf')"
   ]
  },
  {
   "cell_type": "markdown",
   "id": "M4WiyKknRemD",
   "metadata": {
    "id": "M4WiyKknRemD"
   },
   "source": [
    "### Plot por Época"
   ]
  },
  {
   "cell_type": "code",
   "execution_count": 11,
   "id": "nL8K2XNQ6byn",
   "metadata": {
    "colab": {
     "base_uri": "https://localhost:8080/",
     "height": 985
    },
    "id": "nL8K2XNQ6byn",
    "outputId": "279fee60-be45-4093-b488-6a828464e911"
   },
   "outputs": [
    {
     "data": {
      "image/png": "[encoded data removed]",
      "text/plain": [
       "<Figure size 1080x1080 with 2 Axes>"
      ]
     },
     "metadata": {
      "needs_background": "light"
     },
     "output_type": "display_data"
    }
   ],
   "source": [
    "fig, (ax1,ax2) = plt.subplots(nrows=2, figsize=(15, 15))\n",
    "\n",
    "\n",
    "x = range(0, EPOCHS)\n",
    "\n",
    "ax1.plot(x, all_losses_train)\n",
    "ax1.plot(x, all_val_losses)\n",
    "\n",
    "fig.suptitle('Training Progress')\n",
    "ax1.set(xlabel='Epoch', ylabel='Loss')\n",
    "ax1.legend(['Training', 'Validation'], loc='upper right')\n",
    "ax1.grid()\n",
    "\n",
    "ax2.plot(x, all_accuracy_train)\n",
    "ax2.plot(x, all_val_accuracy)\n",
    "\n",
    "ax2.set(xlabel='Epoch', ylabel='Accuracy')\n",
    "ax2.legend(['Training', 'Validation'], loc='lower right')\n",
    "ax2.grid()\n",
    "\n",
    "sns.despine()\n",
    "fig.savefig('cnn_validation_training.pdf')"
   ]
  },
  {
   "cell_type": "code",
   "execution_count": 12,
   "id": "0S3ft67rXBbv",
   "metadata": {
    "colab": {
     "base_uri": "https://localhost:8080/"
    },
    "id": "0S3ft67rXBbv",
    "outputId": "1c5ffaa7-a441-4899-ebd2-ee453f0f9fbb"
   },
   "outputs": [
    {
     "name": "stdout",
     "output_type": "stream",
     "text": [
      "Test loss: 0.05260905250906944\n",
      "Test accuracy: 0.9883000254631042\n"
     ]
    }
   ],
   "source": [
    "score = model.evaluate(x_test, y_test, verbose=False)\n",
    "print(\"Test loss:\", score[0])\n",
    "print(\"Test accuracy:\", score[1])"
   ]
  },
  {
   "cell_type": "code",
   "execution_count": 13,
   "id": "QrmoUucsgAQf",
   "metadata": {
    "colab": {
     "base_uri": "https://localhost:8080/"
    },
    "id": "QrmoUucsgAQf",
    "outputId": "b064a320-b7b4-4128-ecac-8a54c0bea291"
   },
   "outputs": [
    {
     "name": "stdout",
     "output_type": "stream",
     "text": [
      "              precision    recall  f1-score   support\n",
      "\n",
      "           0       0.99      0.99      0.99       980\n",
      "           1       0.99      0.99      0.99      1135\n",
      "           2       0.99      0.99      0.99      1032\n",
      "           3       0.98      0.99      0.99      1010\n",
      "           4       0.99      0.99      0.99       982\n",
      "           5       0.99      0.99      0.99       892\n",
      "           6       0.99      0.99      0.99       958\n",
      "           7       0.99      0.99      0.99      1028\n",
      "           8       0.99      0.99      0.99       974\n",
      "           9       0.98      0.98      0.98      1009\n",
      "\n",
      "    accuracy                           0.99     10000\n",
      "   macro avg       0.99      0.99      0.99     10000\n",
      "weighted avg       0.99      0.99      0.99     10000\n",
      "\n"
     ]
    }
   ],
   "source": [
    "Y_test = np.argmax(y_test, axis=1) # Conversão para one-hot \n",
    "y_pred = np.argmax(model.predict(x_test), axis=-1)\n",
    "print(classification_report(Y_test, y_pred))"
   ]
  }
 ],
 "metadata": {
  "colab": {
   "collapsed_sections": [],
   "provenance": [],
   "toc_visible": true
  },
  "kernelspec": {
   "display_name": "Python 3",
   "language": "python",
   "name": "python3"
  },
  "language_info": {
   "codemirror_mode": {
    "name": "ipython",
    "version": 3
   },
   "file_extension": ".py",
   "mimetype": "text/x-python",
   "name": "python",
   "nbconvert_exporter": "python",
   "pygments_lexer": "ipython3",
   "version": "3.8.10"
  },
  "latex_envs": {
   "LaTeX_envs_menu_present": true,
   "autoclose": false,
   "autocomplete": true,
   "bibliofile": "biblio.bib",
   "cite_by": "apalike",
   "current_citInitial": 1,
   "eqLabelWithNumbers": true,
   "eqNumInitial": 1,
   "hotkeys": {
    "equation": "Ctrl-E",
    "itemize": "Ctrl-I"
   },
   "labels_anchors": false,
   "latex_user_defs": false,
   "report_style_numbering": false,
   "user_envs_cfg": false
  },
  "toc": {
   "base_numbering": 1,
   "nav_menu": {},
   "number_sections": true,
   "sideBar": true,
   "skip_h1_title": false,
   "title_cell": "Table of Contents",
   "title_sidebar": "Contents",
   "toc_cell": false,
   "toc_position": {},
   "toc_section_display": true,
   "toc_window_display": false
  },
  "varInspector": {
   "cols": {
    "lenName": 16,
    "lenType": 16,
    "lenVar": 40
   },
   "kernels_config": {
    "python": {
     "delete_cmd_postfix": "",
     "delete_cmd_prefix": "del ",
     "library": "var_list.py",
     "varRefreshCmd": "print(var_dic_list())"
    },
    "r": {
     "delete_cmd_postfix": ") ",
     "delete_cmd_prefix": "rm(",
     "library": "var_list.r",
     "varRefreshCmd": "cat(var_dic_list()) "
    }
   },
   "types_to_exclude": [
    "module",
    "function",
    "builtin_function_or_method",
    "instance",
    "_Feature"
   ],
   "window_display": false
  }
 },
 "nbformat": 4,
 "nbformat_minor": 5
}
